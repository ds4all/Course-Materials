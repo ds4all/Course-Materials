{
 "cells": [
  {
   "cell_type": "markdown",
   "metadata": {
    "deletable": false,
    "ds4all": {
     "data": "",
     "problemDesc": "",
     "problemId": "",
     "type": ""
    },
    "editable": true
   },
   "source": [
    "<img align=\"right\" alt=\"DS4ALL Logo\" src=\"images/ds4all_logo.png\" style=\"width:155.00px; margin:10px; \"/><br><p align=\"left\" style='color:blue; font-family:\"Cambria\"; font-size:20pt; margin:0; line-height:0.0; padding-bottom:0; padding-top:0; text-align:left; page-break-after:avoid; font-weight:700; '>AUC <i>DS4ALL</i> Course Materials</p><br>\n",
    "\n",
    "\n",
    "\n",
    "\n",
    "## **Fall 2020**\n",
    "---\n",
    "<br>\n",
    "\n",
    "| ------- Lectures ------- | --------------------------------- Description ---------------------------- |\n",
    "| :---                     | :---                                                                       |\n",
    "| [Lecture 00](https://drive.google.com/open?id=13joPPmWLTAqJCo-zUI6cbn0IccWusse9g0En1ts3s94) | Welcome |\n",
    "| [Lecture 01](https://drive.google.com/open?id=1RJy-AVEBI7gqMWzBzu5CnHb-sDNF5n6f5Pdw2El1kkM) | Introduction |\n",
    "| [Lecture 02](https://drive.google.com/open?id=1td9AUUfTN1b3vONMbjE3NoMHhUYSilXH-Pj88-t4NvY)| Quantifying Data |\n",
    "| [Lecture 03](https://drive.google.com/open?id=1yp8tSBwXrzorp3i6yILP7ZIwC8tr69xcflvd4SP9vdk) | Samples and Populations |\n",
    "| [Lecture 04](https://drive.google.com/open?id=12DhdDRQTDEr1ya9v0YPZzOXWgZj0dI5iXOKSsevjyVQ) | Python & Jupyter |\n",
    "| [Lecture 04NB01](lectures/basic_md_example.ipynb) | Notebook - Basic Markdown Example |\n",
    "| [Lecture 05](https://drive.google.com/open?id=1aiGy14iEP0g83Bn8nKcOfGsE0xv9zsGWFEcOx22a_CQ) | Data Types & Data Structures |\n",
    "| [Lecture 06](link) | Lecture x Description |\n",
    "| [Lecture 07](link) | Lecture x Description |\n",
    "| [Lecture 08](link) | Lecture x Description |\n",
    "| [Lecture 09](link) | Lecture x Description |\n",
    "| [Lecture 10](link) | Lecture x Description |\n",
    "\n",
    "<br>\n",
    "\n",
    "| ------- Homework ------- | --------------------------------- Description ---------------------------- |\n",
    "| :---                     | :---                                                                       |\n",
    "| [Homework 01](link)     | H/W 01 Description |\n",
    "| [Homework 0x](link) | Homework x Description |\n",
    "| [Homework 03 (D0001)](assignments/D0001-twelve_days_of_christmas/D0001-twelve_days_of_christmas.ipynb) | Twelve Days of Christmas | \n",
    "\n",
    "<br>\n",
    "\n",
    "| --------- Labs --------- | --------------------------------- Description ---------------------------- |\n",
    "| :---                     | :---                                                                       |\n",
    "| [Lab 01](link)      | Lab 01 Description |\n",
    "| [Lab 0X](link)      | Lab X Description |\n",
    "| [Lab 0Y](link)      | Lab Y Description |\n",
    "\n",
    "\n",
    "\n",
    "\n",
    "<br><br><br>\n",
    "<span style=\"color:lightgray\">AUCC –  Data Science for All</span>\n"
   ]
  },
  {
   "cell_type": "code",
   "execution_count": null,
   "metadata": {},
   "outputs": [],
   "source": []
  }
 ],
 "metadata": {
  "kernelspec": {
   "display_name": "Python 3",
   "language": "python",
   "name": "python3"
  },
  "language_info": {
   "codemirror_mode": {
    "name": "ipython",
    "version": 3
   },
   "file_extension": ".py",
   "mimetype": "text/x-python",
   "name": "python",
   "nbconvert_exporter": "python",
   "pygments_lexer": "ipython3",
   "version": "3.6.8"
  },
  "spelmanCs": {
   "version": "1"
  },
  "widgets": {
   "application/vnd.jupyter.widget-state+json": {
    "state": {},
    "version_major": 2,
    "version_minor": 0
   }
  }
 },
 "nbformat": 4,
 "nbformat_minor": 4
}
